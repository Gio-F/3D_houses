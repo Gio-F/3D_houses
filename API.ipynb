{
 "cells": [
  {
   "cell_type": "code",
   "execution_count": 10,
   "id": "a5649857",
   "metadata": {},
   "outputs": [],
   "source": [
    "import requests\n",
    "import json"
   ]
  },
  {
   "cell_type": "code",
   "execution_count": 11,
   "id": "ca68dd3e",
   "metadata": {},
   "outputs": [
    {
     "name": "stdout",
     "output_type": "stream",
     "text": [
      "Enter full address, including zip code: rue de la loi 200 1000 bruxelles\n"
     ]
    }
   ],
   "source": [
    "address = input(\"Enter full address, including zip code: \")"
   ]
  },
  {
   "cell_type": "code",
   "execution_count": 13,
   "id": "9a7d40de",
   "metadata": {},
   "outputs": [],
   "source": [
    "api_url = f\"http://loc.geopunt.be/v4/Location?q={address}&c=1\"\n",
    "response = requests.get(api_url)\n",
    "data_json = response.json()"
   ]
  },
  {
   "cell_type": "code",
   "execution_count": 14,
   "id": "0cc516da",
   "metadata": {},
   "outputs": [],
   "source": [
    "#data_json \n",
    "pt_dict = data_json['LocationResult'][0][\"Location\"]"
   ]
  },
  {
   "cell_type": "code",
   "execution_count": 15,
   "id": "d0051306",
   "metadata": {},
   "outputs": [
    {
     "name": "stdout",
     "output_type": "stream",
     "text": [
      "149761.34 170648.74\n"
     ]
    }
   ],
   "source": [
    "X_Lamb = pt_dict['X_Lambert72']\n",
    "Y_Lamb = pt_dict['Y_Lambert72']\n",
    "\n",
    "print(X_Lamb,Y_Lamb)"
   ]
  },
  {
   "cell_type": "code",
   "execution_count": null,
   "id": "5f4d35f3",
   "metadata": {},
   "outputs": [],
   "source": []
  }
 ],
 "metadata": {
  "kernelspec": {
   "display_name": "Python 3 (ipykernel)",
   "language": "python",
   "name": "python3"
  },
  "language_info": {
   "codemirror_mode": {
    "name": "ipython",
    "version": 3
   },
   "file_extension": ".py",
   "mimetype": "text/x-python",
   "name": "python",
   "nbconvert_exporter": "python",
   "pygments_lexer": "ipython3",
   "version": "3.8.10"
  }
 },
 "nbformat": 4,
 "nbformat_minor": 5
}
