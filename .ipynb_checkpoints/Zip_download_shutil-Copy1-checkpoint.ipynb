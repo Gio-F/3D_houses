{
 "cells": [
  {
   "cell_type": "code",
   "execution_count": 1,
   "id": "699d0591",
   "metadata": {},
   "outputs": [],
   "source": [
    "#https://svaderia.github.io/articles/downloading-and-unzipping-a-zipfile/\n",
    "import requests\n",
    "from urllib.request import urlopen\n",
    "from tempfile import NamedTemporaryFile\n",
    "import shutil\n",
    "from shutil import unpack_archive\n",
    "\n",
    "import rasterio as rio\n",
    "from rasterio.plot import show\n",
    "from rasterio.plot import show_hist\n",
    "from rasterio.windows import Window\n",
    "from rasterio.mask import mask  \n",
    "\n",
    "import json"
   ]
  },
  {
   "cell_type": "code",
   "execution_count": 2,
   "id": "e3149d53",
   "metadata": {},
   "outputs": [],
   "source": [
    "# https://stackoverflow.com/questions/31798194/call-one-function-after-another-python-wrapping\n",
    "def run_before(lastfunc, *args1, **kwargs1):\n",
    "    def run(func):\n",
    "        def wrapped_func(*args, **kwargs):\n",
    "            try:\n",
    "                result = func(*args, **kwargs)\n",
    "            except:\n",
    "                result = None\n",
    "            finally:\n",
    "                lastfunc(*args1, **kwargs1)\n",
    "                return result\n",
    "        return wrapped_func\n",
    "    return run\n",
    "\n",
    "# Open the geotiff file in the previously downloaded folder\n",
    "all_bounds ={} #where do I put ths to not keep on deleting my keys?\n",
    "\n",
    "#delete the folder\n",
    "def zip_delete(filename):\n",
    "    file_path = f\"/home/giodsubuntu/3D_house_Lidar/Files/{filename}\"\n",
    "    shutil.rmtree(file_path, ignore_errors=True)\n",
    "    return\n",
    "\n",
    "@run_before(zip_delete)\n",
    "def open_geotiff(filename):\n",
    "    file_path = f\"/home/giodsubuntu/3D_house_Lidar/Files/{filename}/GeoTIFF/{filename}.tif\"\n",
    "    file_num = (file_path.split('/')[-1].replace(\".tif\", \"\"))[-2:]\n",
    "\n",
    "    with rio.open(file_path) as geotiff:\n",
    "        left, bottom, right, top = geotiff.bounds\n",
    "        all_bounds[f\"{file_num}\"] = f\"{left, bottom, right, top}\"\n",
    "        with open(\"/home/giodsubuntu/3D_house_Lidar/json/j_all_bounds.json\", \"a+\") as f:\n",
    "            json.dump(all_bounds, f)\n",
    "    return all_bounds\n",
    "\n",
    "# download and unzip the dtm and dsm files based on URL\n",
    "@run_before(open_geotiff)\n",
    "def download_unzip(url):\n",
    "\n",
    "    with urlopen(url) as zipresp, NamedTemporaryFile() as tfile:\n",
    "        tfile.write(zipresp.read())\n",
    "        tfile.seek(0)\n",
    "        filename = url.split('/')[-1].replace(\".zip\", \"\")\n",
    "        file_path = f\"/home/giodsubuntu/3D_house_Lidar/Files/{filename}\"\n",
    "        unpack_archive(tfile.name,file_path, format = 'zip')\n",
    "        \n",
    "    return filename\n",
    "\n",
    "\n"
   ]
  },
  {
   "cell_type": "code",
   "execution_count": null,
   "id": "fd813014",
   "metadata": {},
   "outputs": [],
   "source": [
    "url_l = ['https://downloadagiv.blob.core.windows.net/dhm-vlaanderen-ii-dsm-raster-1m/DHMVIIDSMRAS1m_k01.zip', \n",
    "         'https://downloadagiv.blob.core.windows.net/dhm-vlaanderen-ii-dsm-raster-1m/DHMVIIDSMRAS1m_k02.zip', \n",
    "         'https://downloadagiv.blob.core.windows.net/dhm-vlaanderen-ii-dsm-raster-1m/DHMVIIDSMRAS1m_k03.zip']\n",
    "\n",
    "for url in url_l:\n",
    "    filename = download_unzip(url)\n",
    "    boundaries = open_geotiff(filename)\n",
    "    delete = zip_delete(filename)"
   ]
  },
  {
   "cell_type": "code",
   "execution_count": null,
   "id": "cd4313cc",
   "metadata": {},
   "outputs": [],
   "source": []
  }
 ],
 "metadata": {
  "kernelspec": {
   "display_name": "Python 3 (ipykernel)",
   "language": "python",
   "name": "python3"
  },
  "language_info": {
   "codemirror_mode": {
    "name": "ipython",
    "version": 3
   },
   "file_extension": ".py",
   "mimetype": "text/x-python",
   "name": "python",
   "nbconvert_exporter": "python",
   "pygments_lexer": "ipython3",
   "version": "3.8.10"
  }
 },
 "nbformat": 4,
 "nbformat_minor": 5
}
