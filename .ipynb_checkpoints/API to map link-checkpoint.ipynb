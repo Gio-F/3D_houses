{
 "cells": [
  {
   "cell_type": "code",
   "execution_count": 1,
   "id": "1904d8ee",
   "metadata": {},
   "outputs": [],
   "source": [
    "import requests\n",
    "import json"
   ]
  },
  {
   "cell_type": "code",
   "execution_count": 2,
   "id": "9151ea30",
   "metadata": {},
   "outputs": [],
   "source": [
    "# get pt from API"
   ]
  },
  {
   "cell_type": "code",
   "execution_count": 3,
   "id": "2b13cf7d",
   "metadata": {},
   "outputs": [
    {
     "name": "stdout",
     "output_type": "stream",
     "text": [
      "Enter full address, including zip code: rue de la loi 200 1000 bruxelles\n"
     ]
    }
   ],
   "source": [
    "address = input(\"Enter full address, including zip code: \")"
   ]
  },
  {
   "cell_type": "code",
   "execution_count": 26,
   "id": "7cb0af52",
   "metadata": {},
   "outputs": [],
   "source": [
    "def get_coord(address):\n",
    "    api_url = f\"http://loc.geopunt.be/v4/Location?q={address}&c=1\"\n",
    "    response = requests.get(api_url)\n",
    "    data_json = response.json()\n",
    "    pt_dict = data_json['LocationResult'][0][\"Location\"]\n",
    "    X_Lambert72 = pt_dict['X_Lambert72']\n",
    "    Y_Lambert72 = pt_dict['Y_Lambert72']\n",
    "    pt = [X_Lambert72,Y_Lambert72]\n",
    "    \n",
    "    return pt"
   ]
  },
  {
   "cell_type": "code",
   "execution_count": 34,
   "id": "680cf2b6",
   "metadata": {},
   "outputs": [],
   "source": [
    "#get bounds_box from json looping throug json file/dict\n",
    "\n",
    "# left, bottom, right, top = #is value of dict\n",
    "\n",
    "\n",
    "def bounds_contains(pt):\n",
    "    with open('/home/giodsubuntu/3D_house_Lidar/json/new_j_all_bounds.json') as fd:\n",
    "        d4 = json.load(fd)\n",
    "        for value in d4.values():\n",
    "            bounds_box = value\n",
    "            if bounds_box[0] < pt[0] < bounds_box[0]+bounds_box[2] and bounds_box[1] < pt[1] < bounds_box[1]+bounds_box[3]:\n",
    "             #get key {num} corresponding to the bounds_box\n",
    "                num = d4[\"key\"]\n",
    "                \n",
    "                \n",
    "                \n",
    "            # build link to download correct file (1 x dsm and 1 x dtm)\n",
    "                url_dsm = f'https://downloadagiv.blob.core.windows.net/dhm-vlaanderen-ii-dsm-raster-1m/DHMVIIDSMRAS1m_k0{num}.zip'\n",
    "                url_dtm = f'https://downloadagiv.blob.core.windows.net/dhm-vlaanderen-ii-dtm-raster-1m/DHMVIIDTMRAS1m_k0{num}.zip' \n",
    "\n",
    "        else:\n",
    "            \n",
    "            print(\"not found\")\n",
    "            \n",
    "        return url_dsm,url_dtm\n",
    "        "
   ]
  },
  {
   "cell_type": "code",
   "execution_count": 35,
   "id": "95ae7308",
   "metadata": {},
   "outputs": [
    {
     "name": "stdout",
     "output_type": "stream",
     "text": [
      "149761.34 170648.74\n"
     ]
    }
   ],
   "source": [
    "pt = get_coord(address)\n",
    "print(X_Lambert72,Y_Lambert72)"
   ]
  },
  {
   "cell_type": "code",
   "execution_count": 36,
   "id": "d06e76b3",
   "metadata": {},
   "outputs": [
    {
     "ename": "KeyError",
     "evalue": "'key'",
     "output_type": "error",
     "traceback": [
      "\u001b[0;31m---------------------------------------------------------------------------\u001b[0m",
      "\u001b[0;31mKeyError\u001b[0m                                  Traceback (most recent call last)",
      "Input \u001b[0;32mIn [36]\u001b[0m, in \u001b[0;36m<module>\u001b[0;34m\u001b[0m\n\u001b[0;32m----> 1\u001b[0m pt \u001b[38;5;241m=\u001b[39m \u001b[43mbounds_contains\u001b[49m\u001b[43m(\u001b[49m\u001b[43mpt\u001b[49m\u001b[43m)\u001b[49m\n",
      "Input \u001b[0;32mIn [34]\u001b[0m, in \u001b[0;36mbounds_contains\u001b[0;34m(pt)\u001b[0m\n\u001b[1;32m     10\u001b[0m bounds_box \u001b[38;5;241m=\u001b[39m value\n\u001b[1;32m     11\u001b[0m \u001b[38;5;28;01mif\u001b[39;00m bounds_box[\u001b[38;5;241m0\u001b[39m] \u001b[38;5;241m<\u001b[39m pt[\u001b[38;5;241m0\u001b[39m] \u001b[38;5;241m<\u001b[39m bounds_box[\u001b[38;5;241m0\u001b[39m]\u001b[38;5;241m+\u001b[39mbounds_box[\u001b[38;5;241m2\u001b[39m] \u001b[38;5;129;01mand\u001b[39;00m bounds_box[\u001b[38;5;241m1\u001b[39m] \u001b[38;5;241m<\u001b[39m pt[\u001b[38;5;241m1\u001b[39m] \u001b[38;5;241m<\u001b[39m bounds_box[\u001b[38;5;241m1\u001b[39m]\u001b[38;5;241m+\u001b[39mbounds_box[\u001b[38;5;241m3\u001b[39m]:\n\u001b[1;32m     12\u001b[0m  \u001b[38;5;66;03m#get key {num} corresponding to the bounds_box\u001b[39;00m\n\u001b[0;32m---> 13\u001b[0m     num \u001b[38;5;241m=\u001b[39m \u001b[43md4\u001b[49m\u001b[43m[\u001b[49m\u001b[38;5;124;43m\"\u001b[39;49m\u001b[38;5;124;43mkey\u001b[39;49m\u001b[38;5;124;43m\"\u001b[39;49m\u001b[43m]\u001b[49m\n\u001b[1;32m     14\u001b[0m \u001b[38;5;66;03m# build link to download correct file (1 x dsm and 1 x dtm)\u001b[39;00m\n\u001b[1;32m     15\u001b[0m     url_dsm \u001b[38;5;241m=\u001b[39m \u001b[38;5;124mf\u001b[39m\u001b[38;5;124m'\u001b[39m\u001b[38;5;124mhttps://downloadagiv.blob.core.windows.net/dhm-vlaanderen-ii-dsm-raster-1m/DHMVIIDSMRAS1m_k0\u001b[39m\u001b[38;5;132;01m{\u001b[39;00mnum\u001b[38;5;132;01m}\u001b[39;00m\u001b[38;5;124m.zip\u001b[39m\u001b[38;5;124m'\u001b[39m\n",
      "\u001b[0;31mKeyError\u001b[0m: 'key'"
     ]
    }
   ],
   "source": [
    "pt = bounds_contains(pt)"
   ]
  },
  {
   "cell_type": "code",
   "execution_count": null,
   "id": "9f1b34d3",
   "metadata": {},
   "outputs": [],
   "source": []
  }
 ],
 "metadata": {
  "kernelspec": {
   "display_name": "Python 3 (ipykernel)",
   "language": "python",
   "name": "python3"
  },
  "language_info": {
   "codemirror_mode": {
    "name": "ipython",
    "version": 3
   },
   "file_extension": ".py",
   "mimetype": "text/x-python",
   "name": "python",
   "nbconvert_exporter": "python",
   "pygments_lexer": "ipython3",
   "version": "3.8.10"
  }
 },
 "nbformat": 4,
 "nbformat_minor": 5
}
