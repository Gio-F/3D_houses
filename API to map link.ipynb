{
 "cells": [
  {
   "cell_type": "code",
   "execution_count": 48,
   "id": "1904d8ee",
   "metadata": {},
   "outputs": [],
   "source": [
    "import requests\n",
    "import json"
   ]
  },
  {
   "cell_type": "code",
   "execution_count": 49,
   "id": "9151ea30",
   "metadata": {},
   "outputs": [],
   "source": [
    "# get pt from API"
   ]
  },
  {
   "cell_type": "code",
   "execution_count": 50,
   "id": "2b13cf7d",
   "metadata": {},
   "outputs": [
    {
     "name": "stdout",
     "output_type": "stream",
     "text": [
      "Enter full address, including zip code: Hanzestedenplaats 1 2000 Antwerpen\n"
     ]
    }
   ],
   "source": [
    "address = input(\"Enter full address, including zip code: \")"
   ]
  },
  {
   "cell_type": "code",
   "execution_count": 51,
   "id": "7cb0af52",
   "metadata": {},
   "outputs": [],
   "source": [
    "def get_coord(address):\n",
    "    api_url = f\"http://loc.geopunt.be/v4/Location?q={address}&c=1\"\n",
    "    response = requests.get(api_url)\n",
    "    data_json = response.json()\n",
    "    pt_dict = data_json['LocationResult'][0][\"Location\"]\n",
    "    X_Lambert72 = pt_dict['X_Lambert72']\n",
    "    Y_Lambert72 = pt_dict['Y_Lambert72']\n",
    "    pt = [X_Lambert72,Y_Lambert72]\n",
    "    \n",
    "    return pt"
   ]
  },
  {
   "cell_type": "code",
   "execution_count": 52,
   "id": "b2767c30",
   "metadata": {},
   "outputs": [],
   "source": [
    "def bounds_contains(pt):\n",
    "    with open('/home/giodsubuntu/3D_house_Lidar/json/new_j_all_bounds.json') as fd:\n",
    "        d4 = json.load(fd)\n",
    "        for value in d4.values():\n",
    "            bounds_box = value\n",
    "            #if bounds_box[0] < pt[0] < bounds_box[0]+bounds_box[2] and bounds_box[1] < pt[1] < bounds_box[1]+bounds_box[3]:\n",
    "            if bounds_box[0] < pt[0] < bounds_box[2] and bounds_box[1] < pt[1] < bounds_box[3]:\n",
    "\n",
    "                print(\"found box\")\n",
    "                break\n",
    "        for key, value in d4.items():\n",
    "            if bounds_box == value:\n",
    "                num = key\n",
    "                print(num)\n",
    "                break\n",
    "                   \n",
    "        return num\n",
    "        "
   ]
  },
  {
   "cell_type": "code",
   "execution_count": 53,
   "id": "95ae7308",
   "metadata": {},
   "outputs": [
    {
     "name": "stdout",
     "output_type": "stream",
     "text": [
      "[152511.31, 213222.39]\n"
     ]
    }
   ],
   "source": [
    "pt = get_coord(address)\n",
    "print(pt)"
   ]
  },
  {
   "cell_type": "code",
   "execution_count": 54,
   "id": "d06e76b3",
   "metadata": {},
   "outputs": [
    {
     "name": "stdout",
     "output_type": "stream",
     "text": [
      "found box\n",
      "15\n"
     ]
    }
   ],
   "source": [
    "num = bounds_contains(pt)"
   ]
  },
  {
   "cell_type": "code",
   "execution_count": 56,
   "id": "9f1b34d3",
   "metadata": {},
   "outputs": [
    {
     "name": "stdout",
     "output_type": "stream",
     "text": [
      "https://downloadagiv.blob.core.windows.net/dhm-vlaanderen-ii-dtm-raster-1m/DHMVIIDTMRAS1m_k15.zip https://downloadagiv.blob.core.windows.net/dhm-vlaanderen-ii-dsm-raster-1m/DHMVIIDSMRAS1m_k15.zip\n"
     ]
    }
   ],
   "source": [
    "dsm_url = f'https://downloadagiv.blob.core.windows.net/dhm-vlaanderen-ii-dsm-raster-1m/DHMVIIDSMRAS1m_k{num}.zip'\n",
    "dtm_url = f\"https://downloadagiv.blob.core.windows.net/dhm-vlaanderen-ii-dtm-raster-1m/DHMVIIDTMRAS1m_k{num}.zip\"\n",
    "\n",
    "print (dtm_url, dsm_url)"
   ]
  },
  {
   "cell_type": "code",
   "execution_count": null,
   "id": "14ecb6a8",
   "metadata": {},
   "outputs": [],
   "source": []
  }
 ],
 "metadata": {
  "kernelspec": {
   "display_name": "Python 3 (ipykernel)",
   "language": "python",
   "name": "python3"
  },
  "language_info": {
   "codemirror_mode": {
    "name": "ipython",
    "version": 3
   },
   "file_extension": ".py",
   "mimetype": "text/x-python",
   "name": "python",
   "nbconvert_exporter": "python",
   "pygments_lexer": "ipython3",
   "version": "3.8.10"
  }
 },
 "nbformat": 4,
 "nbformat_minor": 5
}
