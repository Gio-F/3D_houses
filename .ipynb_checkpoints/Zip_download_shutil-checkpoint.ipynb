{
 "cells": [
  {
   "cell_type": "code",
   "execution_count": 1,
   "id": "699d0591",
   "metadata": {},
   "outputs": [],
   "source": [
    "#https://svaderia.github.io/articles/downloading-and-unzipping-a-zipfile/\n",
    "import requests\n",
    "from urllib.request import urlopen\n",
    "from tempfile import NamedTemporaryFile\n",
    "import shutil\n",
    "from shutil import unpack_archive\n",
    "\n",
    "import rasterio as rio\n",
    "from rasterio.plot import show\n",
    "from rasterio.plot import show_hist\n",
    "from rasterio.windows import Window\n",
    "from rasterio.mask import mask  \n",
    "\n",
    "import json"
   ]
  },
  {
   "cell_type": "code",
   "execution_count": 2,
   "id": "f42664d1",
   "metadata": {},
   "outputs": [],
   "source": [
    "# download and unzip the dtm and dsm files based on URL\n",
    "def download_unzip(url):\n",
    "\n",
    "    with urlopen(url) as zipresp, NamedTemporaryFile() as tfile:\n",
    "        tfile.write(zipresp.read())\n",
    "        tfile.seek(0)\n",
    "        filename = url.split('/')[-1].replace(\".zip\", \"\")\n",
    "        file_path = f\"/home/giodsubuntu/3D_house_Lidar/Files/{filename}\"\n",
    "        unpack_archive(tfile.name,file_path, format = 'zip')\n",
    "        \n",
    "    return filename"
   ]
  },
  {
   "cell_type": "code",
   "execution_count": 3,
   "id": "a2508bf9",
   "metadata": {},
   "outputs": [],
   "source": [
    "# Open the geotiff file in the previously downloaded folder\n",
    "all_bounds ={} #where do I put ths to not keep on deleting my keys?\n",
    "\n",
    "def open_geotiff(filename):\n",
    "    file_path = f\"/home/giodsubuntu/3D_house_Lidar/Files/{filename}/GeoTIFF/{filename}.tif\"\n",
    "    file_num = (file_path.split('/')[-1].replace(\".tif\", \"\"))[-2:]\n",
    "\n",
    "    with rio.open(file_path) as geotiff:\n",
    "        left, bottom, right, top = geotiff.bounds\n",
    "        all_bounds[f\"{file_num}\"] = f\"{left, bottom, right, top}\"\n",
    "        with open(\"/home/giodsubuntu/3D_house_Lidar/json/j_all_bounds.json\", \"a+\") as f:\n",
    "            json.dump(all_bounds, f)\n",
    "            print(f\"done{file_num}\")\n",
    "    return all_bounds"
   ]
  },
  {
   "cell_type": "code",
   "execution_count": 4,
   "id": "6b3220cc",
   "metadata": {},
   "outputs": [],
   "source": [
    "  #delete the folder\n",
    "\n",
    "def zip_delete(filename):\n",
    "    file_path = f\"/home/giodsubuntu/3D_house_Lidar/Files/{filename}\"\n",
    "    shutil.rmtree(file_path, ignore_errors=True)\n",
    "    return "
   ]
  },
  {
   "cell_type": "markdown",
   "id": "94e8a2cf",
   "metadata": {},
   "source": [
    "for num in range(0,9): \n",
    "    num +=1 \n",
    "    url=f'https://downloadagiv.blob.core.windows.net/dhm-vlaanderen-ii-dsm-raster-1m/DHMVIIDSMRAS1m_k0{num}.zip' \n",
    "    url_list.append(url) \n",
    "for num in range(9,43): \n",
    "    num +=1 \n",
    "    url=f'https://downloadagiv.blob.core.windows.net/dhm-vlaanderen-ii-dsm-raster-1m/DHMVIIDSMRAS1m_k{num}.zip' \n",
    "    url_list.append(url)\n",
    "\n",
    "print(url_l)"
   ]
  },
  {
   "cell_type": "code",
   "execution_count": 5,
   "id": "cd177c83",
   "metadata": {},
   "outputs": [
    {
     "name": "stdout",
     "output_type": "stream",
     "text": [
      "done34\n",
      "done35\n",
      "done36\n",
      "done37\n",
      "done38\n",
      "done39\n",
      "done40\n",
      "done41\n",
      "done42\n",
      "done43\n"
     ]
    }
   ],
   "source": [
    "url_list =['https://downloadagiv.blob.core.windows.net/dhm-vlaanderen-ii-dsm-raster-1m/DHMVIIDSMRAS1m_k34.zip', 'https://downloadagiv.blob.core.windows.net/dhm-vlaanderen-ii-dsm-raster-1m/DHMVIIDSMRAS1m_k35.zip', 'https://downloadagiv.blob.core.windows.net/dhm-vlaanderen-ii-dsm-raster-1m/DHMVIIDSMRAS1m_k36.zip', 'https://downloadagiv.blob.core.windows.net/dhm-vlaanderen-ii-dsm-raster-1m/DHMVIIDSMRAS1m_k37.zip', 'https://downloadagiv.blob.core.windows.net/dhm-vlaanderen-ii-dsm-raster-1m/DHMVIIDSMRAS1m_k38.zip', 'https://downloadagiv.blob.core.windows.net/dhm-vlaanderen-ii-dsm-raster-1m/DHMVIIDSMRAS1m_k39.zip', 'https://downloadagiv.blob.core.windows.net/dhm-vlaanderen-ii-dsm-raster-1m/DHMVIIDSMRAS1m_k40.zip', 'https://downloadagiv.blob.core.windows.net/dhm-vlaanderen-ii-dsm-raster-1m/DHMVIIDSMRAS1m_k41.zip', 'https://downloadagiv.blob.core.windows.net/dhm-vlaanderen-ii-dsm-raster-1m/DHMVIIDSMRAS1m_k42.zip', 'https://downloadagiv.blob.core.windows.net/dhm-vlaanderen-ii-dsm-raster-1m/DHMVIIDSMRAS1m_k43.zip']\n",
    "for url in url_list:\n",
    "    filename = download_unzip(url)\n",
    "    \n",
    "    boundaries = open_geotiff(filename)\n",
    "    zip_delete(filename)"
   ]
  },
  {
   "cell_type": "code",
   "execution_count": null,
   "id": "28d190d4",
   "metadata": {},
   "outputs": [],
   "source": [
    "print(all_bounds)\n"
   ]
  },
  {
   "cell_type": "code",
   "execution_count": null,
   "id": "259292ab",
   "metadata": {},
   "outputs": [],
   "source": [
    "#DHMVII_vdc_k31\n",
    "\n",
    "#Do you REALLY need to unzip the 2nd file? The Geotiff is there!\n",
    "\n",
    "#Nice to have: \n",
    "# better path for saving file\n",
    "# handle file already downloaded (chg name?, abort?)"
   ]
  },
  {
   "cell_type": "code",
   "execution_count": null,
   "id": "941261ca",
   "metadata": {},
   "outputs": [],
   "source": []
  }
 ],
 "metadata": {
  "kernelspec": {
   "display_name": "Python 3 (ipykernel)",
   "language": "python",
   "name": "python3"
  },
  "language_info": {
   "codemirror_mode": {
    "name": "ipython",
    "version": 3
   },
   "file_extension": ".py",
   "mimetype": "text/x-python",
   "name": "python",
   "nbconvert_exporter": "python",
   "pygments_lexer": "ipython3",
   "version": "3.8.10"
  }
 },
 "nbformat": 4,
 "nbformat_minor": 5
}
