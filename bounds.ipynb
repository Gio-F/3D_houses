{
 "cells": [
  {
   "cell_type": "code",
   "execution_count": null,
   "id": "4c81e75c",
   "metadata": {},
   "outputs": [],
   "source": [
    "import os\n",
    "import numpy as np\n",
    "\n",
    "import rasterio as rio\n",
    "from rasterio.plot import show\n",
    "from rasterio.plot import show_hist\n",
    "from rasterio.windows import Window\n",
    "from rasterio.mask import mask"
   ]
  },
  {
   "cell_type": "code",
   "execution_count": null,
   "id": "b9456f96",
   "metadata": {},
   "outputs": [],
   "source": [
    "dtm_path = \"/home/giodsubuntu/3D_house_Lidar/Files/DHMVIIDTMRAS1m_k31/GeoTIFF/DHMVIIDTMRAS1m_k31.tif\"\n",
    "\n",
    "\n",
    "with rio.open(dtm_path) as rds_dtm:\n",
    "    left, bottom, right, top = rds_dtm.bounds\n"
   ]
  },
  {
   "cell_type": "code",
   "execution_count": null,
   "id": "dcac9754",
   "metadata": {},
   "outputs": [],
   "source": [
    "print(left, bottom, right, top)\n"
   ]
  },
  {
   "cell_type": "code",
   "execution_count": null,
   "id": "6a451ae7",
   "metadata": {},
   "outputs": [],
   "source": [
    "def bounds_contains(bounds_box,pt):\n",
    "    if bounds_box[0] < pt[0] < bounds_box[0]+bounds_box[2] and bounds_box[1] < pt[1] < bounds_box[1]+bounds_box[3]:\n",
    "        print(\"yes\")\n",
    "    else:\n",
    "        print(\"No\")\n",
    "    return \n"
   ]
  },
  {
   "cell_type": "code",
   "execution_count": null,
   "id": "7e0d5ee0",
   "metadata": {},
   "outputs": [],
   "source": [
    "#bounds_box = boundaries\n",
    "bounds_box = (130000.0, 158000.0, 162000.0, 178000.0)\n",
    "\n",
    "X_31370 = 150982.16\n",
    "Y_31370 = 17\n",
    "              \n",
    "pt = (X_31370,Y_31370)\n",
    "\n",
    "bounds_contains(bounds_box,pt)"
   ]
  },
  {
   "cell_type": "code",
   "execution_count": null,
   "id": "57322eb2",
   "metadata": {},
   "outputs": [],
   "source": [
    "type(bounds_box)"
   ]
  },
  {
   "cell_type": "code",
   "execution_count": null,
   "id": "e987d73f",
   "metadata": {},
   "outputs": [],
   "source": [
    "List_bounds =[()]"
   ]
  },
  {
   "cell_type": "code",
   "execution_count": null,
   "id": "4398cdb8",
   "metadata": {},
   "outputs": [],
   "source": [
    "all_bounds ={} #where do I put ths to not keep on deleting my keys\n",
    "def open_geotiff(filename):\n",
    "    file_path = f\"/home/giodsubuntu/3D_house_Lidar/Files/{filename}/GeoTIFF/{filename}.tif\"\n",
    "    file_num = (file_path.split('/')[-1].replace(\".tif\", \"\"))[-2:]\n",
    "\n",
    "    with rio.open(file_path) as geotiff:\n",
    "        left, bottom, right, top = geotiff.bounds\n",
    "        all_bounds[f\"{file_num}\"] = f\"{left, bottom, right, top}\"\n",
    "    return all_bounds"
   ]
  },
  {
   "cell_type": "code",
   "execution_count": null,
   "id": "39aa37aa",
   "metadata": {},
   "outputs": [],
   "source": [
    "#https://stackoverflow.com/questions/2733813/iterating-through-a-json-object\n",
    "\n",
    "# j_all_bounds = json.dumps(all_bounds)\n",
    "\n",
    "def main():\n",
    "\n",
    "    # create a simple JSON array\n",
    "    jsonString = '{\"key1\":\"value1\",\"key2\":\"value2\",\"key3\":\"value3\"}'\n",
    "\n",
    "    # change the JSON string into a JSON object\n",
    "    jsonObject = json.loads(jsonString)\n",
    "\n",
    "    # print the keys and values\n",
    "    for key in jsonObject:\n",
    "        value = jsonObject[key]\n",
    "        print(\"The key and value are ({}) = ({})\".format(key, value))\n",
    "\n",
    "    pass\n",
    "\n",
    "if __name__ == '__main__':\n",
    "    main()"
   ]
  },
  {
   "cell_type": "code",
   "execution_count": 3,
   "id": "17290e58",
   "metadata": {},
   "outputs": [
    {
     "name": "stdout",
     "output_type": "stream",
     "text": [
      "The key and value are (03) = ((194000.0, 238000.0, 206000.0, 248000.0))\n",
      "The key and value are (01) = ((145000.0, 238000.0, 162000.0, 247000.0))\n"
     ]
    },
    {
     "data": {
      "text/plain": [
       "dict"
      ]
     },
     "execution_count": 3,
     "metadata": {},
     "output_type": "execute_result"
    }
   ],
   "source": [
    "import json\n",
    "f = open(\"/home/giodsubuntu/3D_house_Lidar/json/j_all_bounds.json\",  \"r\")\n",
    "jsonObject = json.loads(f.read())\n",
    "\n",
    "for key in jsonObject:\n",
    "    value = jsonObject[key]\n",
    "    print(\"The key and value are ({}) = ({})\".format(key, value))\n",
    "    \n",
    "\n",
    "type(jsonObject)"
   ]
  },
  {
   "cell_type": "code",
   "execution_count": null,
   "id": "9cc155fe",
   "metadata": {},
   "outputs": [],
   "source": []
  }
 ],
 "metadata": {
  "kernelspec": {
   "display_name": "Python 3 (ipykernel)",
   "language": "python",
   "name": "python3"
  },
  "language_info": {
   "codemirror_mode": {
    "name": "ipython",
    "version": 3
   },
   "file_extension": ".py",
   "mimetype": "text/x-python",
   "name": "python",
   "nbconvert_exporter": "python",
   "pygments_lexer": "ipython3",
   "version": "3.8.10"
  }
 },
 "nbformat": 4,
 "nbformat_minor": 5
}
