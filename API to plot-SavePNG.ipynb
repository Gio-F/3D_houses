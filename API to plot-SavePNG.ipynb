{
 "cells": [
  {
   "cell_type": "code",
   "execution_count": null,
   "id": "1904d8ee",
   "metadata": {},
   "outputs": [],
   "source": [
    "import requests\n",
    "import json\n",
    "\n",
    "import os\n",
    "import numpy as np\n",
    "\n",
    "from urllib.request import urlopen\n",
    "from tempfile import NamedTemporaryFile\n",
    "import shutil\n",
    "from shutil import unpack_archive\n",
    "\n",
    "import rasterio as rio\n",
    "from rasterio.plot import show\n",
    "from rasterio.plot import show_hist\n",
    "from rasterio.windows import Window\n",
    "from rasterio.mask import mask\n",
    "\n",
    "import plotly.graph_objects as go\n",
    "import plotly.io as pio"
   ]
  },
  {
   "cell_type": "code",
   "execution_count": null,
   "id": "2b13cf7d",
   "metadata": {},
   "outputs": [],
   "source": [
    "address = input(\"Enter full address, including zip code: \")"
   ]
  },
  {
   "cell_type": "code",
   "execution_count": null,
   "id": "7cb0af52",
   "metadata": {},
   "outputs": [],
   "source": [
    "def get_coord(address):\n",
    "    api_url = f\"http://loc.geopunt.be/v4/Location?q={address}&c=1\"\n",
    "    response = requests.get(api_url)\n",
    "    data_json = response.json()\n",
    "    pt_dict = data_json['LocationResult'][0][\"Location\"]\n",
    "    X_Lambert72 = pt_dict['X_Lambert72']\n",
    "    Y_Lambert72 = pt_dict['Y_Lambert72']\n",
    "    pt = [X_Lambert72,Y_Lambert72]\n",
    "    \n",
    "    return  X_Lambert72,Y_Lambert72"
   ]
  },
  {
   "cell_type": "code",
   "execution_count": null,
   "id": "bc07f45c",
   "metadata": {},
   "outputs": [],
   "source": [
    "def bounds_contains(pt):\n",
    "    \n",
    "    with open('/home/giodsubuntu/3D_house_Lidar/json/new_j_all_bounds.json') as fd:\n",
    "        d4 = json.load(fd)\n",
    "        for value in d4.values():\n",
    "            bounds_box = value\n",
    "            #if bounds_box[0] < pt[0] < bounds_box[0]+bounds_box[2] and bounds_box[1] < pt[1] < bounds_box[1]+bounds_box[3]:\n",
    "            if bounds_box[0] < pt[0] < bounds_box[2] and bounds_box[1] < pt[1] < bounds_box[3]:\n",
    "\n",
    "                #print(\"found box\")\n",
    "                break\n",
    "        for key, value in d4.items():\n",
    "            if bounds_box == value:\n",
    "                num = key\n",
    "                dsm_url = f'https://downloadagiv.blob.core.windows.net/dhm-vlaanderen-ii-dsm-raster-1m/DHMVIIDSMRAS1m_k{num}.zip'\n",
    "                dtm_url = f\"https://downloadagiv.blob.core.windows.net/dhm-vlaanderen-ii-dtm-raster-1m/DHMVIIDTMRAS1m_k{num}.zip\"\n",
    "                break\n",
    "                \n",
    "                   \n",
    "        return dsm_url,dtm_url\n",
    "        "
   ]
  },
  {
   "cell_type": "code",
   "execution_count": null,
   "id": "95ae7308",
   "metadata": {},
   "outputs": [],
   "source": [
    "X_Lambert72,Y_Lambert72 = get_coord(address)\n",
    "pt = get_coord(address)"
   ]
  },
  {
   "cell_type": "code",
   "execution_count": null,
   "id": "d06e76b3",
   "metadata": {},
   "outputs": [],
   "source": [
    "dsm_url,dtm_url = bounds_contains(pt)"
   ]
  },
  {
   "cell_type": "code",
   "execution_count": null,
   "id": "fe812cb3",
   "metadata": {},
   "outputs": [],
   "source": [
    "# download and unzip the dtm and dsm files based on URL\n",
    "\n",
    "def download_unzip(dtm_url, dsm_url):\n",
    "        with urlopen(dtm_url) as zipresp, NamedTemporaryFile() as tfile:\n",
    "            tfile.write(zipresp.read())\n",
    "            tfile.seek(0)\n",
    "            filename = dtm_url.split('/')[-1].replace(\".zip\", \"\")\n",
    "            file_path_dtm = f\"/home/giodsubuntu/3D_house_Lidar/Files/{filename}\"\n",
    "            unpack_archive(tfile.name,file_path_dtm, format = 'zip')\n",
    "            tif_dtm = f\"{file_path_dtm}/GeoTIFF/{filename}.tif\"\n",
    "        with urlopen(dsm_url) as zipresp, NamedTemporaryFile() as tfile:\n",
    "            tfile.write(zipresp.read())\n",
    "            tfile.seek(0)\n",
    "            filename = dsm_url.split('/')[-1].replace(\".zip\", \"\")\n",
    "            file_path_dsm = f\"/home/giodsubuntu/3D_house_Lidar/Files/{filename}\"\n",
    "            unpack_archive(tfile.name,file_path_dsm, format = 'zip')\n",
    "            tif_dsm = f\"{file_path_dsm}/GeoTIFF/{filename}.tif\"\n",
    "        \n",
    "        return tif_dtm, tif_dsm, file_path_dtm,file_path_dsm"
   ]
  },
  {
   "cell_type": "code",
   "execution_count": null,
   "id": "7210c20e",
   "metadata": {},
   "outputs": [],
   "source": [
    "def array_dtm(tif_dtm):\n",
    "    with rio.open(tif_dtm) as rds_dtm:\n",
    "        row, col = rds_dtm.index(X_Lambert72,Y_Lambert72)\n",
    "        dtm_slice = (slice(row - 100,row + 100),slice(col -100, col + 100))\n",
    "        window_dtm = Window.from_slices(*dtm_slice)\n",
    "        dtm_arr = rds_dtm.read(1, window= window_dtm)\n",
    "        return dtm_arr\n",
    "\n",
    "\n",
    "def array_dsm(tif_dsm):\n",
    "     with rio.open(tif_dsm) as rds_dsm:\n",
    "        row, col = rds_dsm.index(X_Lambert72,Y_Lambert72)\n",
    "        dsm_slice = (slice(row - 100,row + 100),slice(col -100, col + 100))\n",
    "        window_dsm = Window.from_slices(*dsm_slice)\n",
    "        dsm_arr = rds_dsm.read(1, window= window_dsm)\n",
    "        return dsm_arr\n",
    "    \n",
    "def plot_window(dtm_arr,dsm_arr):\n",
    "    dtm_arr = array_dtm(tif_dtm)\n",
    "    dsm_arr = array_dsm(tif_dsm)\n",
    "    \n",
    "    chm_window = dsm_arr - dtm_arr\n",
    "    \n",
    "    fig = go.Figure(data=[go.Surface(z=chm_window)])\n",
    "    \n",
    "    if not os.path.exists(\"images\"):\n",
    "        os.mkdir(\"images\")\n",
    "\n",
    "    return fig.show(), fig.write_image(f\"images/{address}.png\")\n"
   ]
  },
  {
   "cell_type": "code",
   "execution_count": null,
   "id": "00ba41b4",
   "metadata": {},
   "outputs": [],
   "source": [
    "  #delete the folder\n",
    "\n",
    "def zip_delete(file_path_dtm,file_path_dsm):\n",
    "    shutil.rmtree(file_path_dsm, ignore_errors=True)\n",
    "    shutil.rmtree(file_path_dtm, ignore_errors=True)\n",
    "    return "
   ]
  },
  {
   "cell_type": "code",
   "execution_count": null,
   "id": "22cdce48",
   "metadata": {},
   "outputs": [],
   "source": []
  },
  {
   "cell_type": "code",
   "execution_count": null,
   "id": "fd3be2d6",
   "metadata": {},
   "outputs": [],
   "source": [
    "tif_dtm, tif_dsm, file_path_dtm,file_path_dsm = download_unzip(dtm_url, dsm_url)\n"
   ]
  },
  {
   "cell_type": "code",
   "execution_count": null,
   "id": "1b3d7642",
   "metadata": {},
   "outputs": [],
   "source": [
    "dtm_arr = array_dtm(tif_dtm)\n",
    "dsm_arr = array_dsm(tif_dsm)"
   ]
  },
  {
   "cell_type": "code",
   "execution_count": null,
   "id": "755f7ea5",
   "metadata": {},
   "outputs": [],
   "source": [
    "plot = plot_window(dtm_arr,dsm_arr)"
   ]
  },
  {
   "cell_type": "code",
   "execution_count": null,
   "id": "630fc171",
   "metadata": {},
   "outputs": [],
   "source": [
    "zip_delete(file_path_dtm,file_path_dsm)"
   ]
  },
  {
   "cell_type": "code",
   "execution_count": null,
   "id": "b03c6b89",
   "metadata": {},
   "outputs": [],
   "source": []
  }
 ],
 "metadata": {
  "kernelspec": {
   "display_name": "Python 3 (ipykernel)",
   "language": "python",
   "name": "python3"
  },
  "language_info": {
   "codemirror_mode": {
    "name": "ipython",
    "version": 3
   },
   "file_extension": ".py",
   "mimetype": "text/x-python",
   "name": "python",
   "nbconvert_exporter": "python",
   "pygments_lexer": "ipython3",
   "version": "3.8.10"
  }
 },
 "nbformat": 4,
 "nbformat_minor": 5
}
