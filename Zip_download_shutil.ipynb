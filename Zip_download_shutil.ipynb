{
 "cells": [
  {
   "cell_type": "code",
   "execution_count": 1,
   "id": "699d0591",
   "metadata": {},
   "outputs": [],
   "source": [
    "#https://svaderia.github.io/articles/downloading-and-unzipping-a-zipfile/\n",
    "import requests\n",
    "from urllib.request import urlopen\n",
    "from tempfile import NamedTemporaryFile\n",
    "import shutil\n",
    "from shutil import unpack_archive\n",
    "\n",
    "import rasterio as rio\n",
    "from rasterio.plot import show\n",
    "from rasterio.plot import show_hist\n",
    "from rasterio.windows import Window\n",
    "from rasterio.mask import mask  \n",
    "\n",
    "import json"
   ]
  },
  {
   "cell_type": "code",
   "execution_count": 10,
   "id": "3bec66ed",
   "metadata": {},
   "outputs": [],
   "source": [
    "# https://stackoverflow.com/questions/31798194/call-one-function-after-another-python-wrapping\n",
    "def run_before(lastfunc, *args1, **kwargs1):\n",
    "    def run(func):\n",
    "        def wrapped_func(*args, **kwargs):\n",
    "            try:\n",
    "                result = func(*args, **kwargs)\n",
    "            except:\n",
    "                result = None\n",
    "            finally:\n",
    "                lastfunc(*args1, **kwargs1)\n",
    "                return result\n",
    "        return wrapped_func\n",
    "    \n",
    "\n",
    "    "
   ]
  },
  {
   "cell_type": "code",
   "execution_count": 11,
   "id": "f42664d1",
   "metadata": {},
   "outputs": [],
   "source": [
    "#delete the folder\n",
    "\n",
    "def zip_delete(filename):\n",
    "    file_path = f\"/home/giodsubuntu/3D_house_Lidar/Files/{filename}\"\n",
    "    shutil.rmtree(file_path, ignore_errors=True)\n",
    "    return  "
   ]
  },
  {
   "cell_type": "code",
   "execution_count": 12,
   "id": "a2508bf9",
   "metadata": {},
   "outputs": [
    {
     "ename": "TypeError",
     "evalue": "'NoneType' object is not callable",
     "output_type": "error",
     "traceback": [
      "\u001b[0;31m---------------------------------------------------------------------------\u001b[0m",
      "\u001b[0;31mTypeError\u001b[0m                                 Traceback (most recent call last)",
      "Input \u001b[0;32mIn [12]\u001b[0m, in \u001b[0;36m<module>\u001b[0;34m\u001b[0m\n\u001b[1;32m      1\u001b[0m \u001b[38;5;66;03m# Open the geotiff file in the previously downloaded folder\u001b[39;00m\n\u001b[1;32m      2\u001b[0m all_bounds \u001b[38;5;241m=\u001b[39m{} \u001b[38;5;66;03m#where do I put ths to not keep on deleting my keys?\u001b[39;00m\n\u001b[1;32m      4\u001b[0m \u001b[38;5;129;43m@run_before\u001b[39;49m\u001b[43m(\u001b[49m\u001b[43mzip_delete\u001b[49m\u001b[43m)\u001b[49m\n\u001b[0;32m----> 5\u001b[0m \u001b[38;5;28;43;01mdef\u001b[39;49;00m\u001b[43m \u001b[49m\u001b[38;5;21;43mopen_geotiff\u001b[39;49m\u001b[43m(\u001b[49m\u001b[43mfilename\u001b[49m\u001b[43m)\u001b[49m\u001b[43m:\u001b[49m\n\u001b[1;32m      6\u001b[0m \u001b[43m    \u001b[49m\u001b[43mfile_path\u001b[49m\u001b[43m \u001b[49m\u001b[38;5;241;43m=\u001b[39;49m\u001b[43m \u001b[49m\u001b[38;5;124;43mf\u001b[39;49m\u001b[38;5;124;43m\"\u001b[39;49m\u001b[38;5;124;43m/home/giodsubuntu/3D_house_Lidar/Files/\u001b[39;49m\u001b[38;5;132;43;01m{\u001b[39;49;00m\u001b[43mfilename\u001b[49m\u001b[38;5;132;43;01m}\u001b[39;49;00m\u001b[38;5;124;43m/GeoTIFF/\u001b[39;49m\u001b[38;5;132;43;01m{\u001b[39;49;00m\u001b[43mfilename\u001b[49m\u001b[38;5;132;43;01m}\u001b[39;49;00m\u001b[38;5;124;43m.tif\u001b[39;49m\u001b[38;5;124;43m\"\u001b[39;49m\n\u001b[1;32m      7\u001b[0m \u001b[43m    \u001b[49m\u001b[43mfile_num\u001b[49m\u001b[43m \u001b[49m\u001b[38;5;241;43m=\u001b[39;49m\u001b[43m \u001b[49m\u001b[43m(\u001b[49m\u001b[43mfile_path\u001b[49m\u001b[38;5;241;43m.\u001b[39;49m\u001b[43msplit\u001b[49m\u001b[43m(\u001b[49m\u001b[38;5;124;43m'\u001b[39;49m\u001b[38;5;124;43m/\u001b[39;49m\u001b[38;5;124;43m'\u001b[39;49m\u001b[43m)\u001b[49m\u001b[43m[\u001b[49m\u001b[38;5;241;43m-\u001b[39;49m\u001b[38;5;241;43m1\u001b[39;49m\u001b[43m]\u001b[49m\u001b[38;5;241;43m.\u001b[39;49m\u001b[43mreplace\u001b[49m\u001b[43m(\u001b[49m\u001b[38;5;124;43m\"\u001b[39;49m\u001b[38;5;124;43m.tif\u001b[39;49m\u001b[38;5;124;43m\"\u001b[39;49m\u001b[43m,\u001b[49m\u001b[43m \u001b[49m\u001b[38;5;124;43m\"\u001b[39;49m\u001b[38;5;124;43m\"\u001b[39;49m\u001b[43m)\u001b[49m\u001b[43m)\u001b[49m\u001b[43m[\u001b[49m\u001b[38;5;241;43m-\u001b[39;49m\u001b[38;5;241;43m2\u001b[39;49m\u001b[43m:\u001b[49m\u001b[43m]\u001b[49m\n",
      "\u001b[0;31mTypeError\u001b[0m: 'NoneType' object is not callable"
     ]
    }
   ],
   "source": [
    "# Open the geotiff file in the previously downloaded folder\n",
    "all_bounds ={} #where do I put ths to not keep on deleting my keys?\n",
    "\n",
    "@run_before(zip_delete)\n",
    "def open_geotiff(filename):\n",
    "    file_path = f\"/home/giodsubuntu/3D_house_Lidar/Files/{filename}/GeoTIFF/{filename}.tif\"\n",
    "    file_num = (file_path.split('/')[-1].replace(\".tif\", \"\"))[-2:]\n",
    "\n",
    "    with rio.open(file_path) as geotiff:\n",
    "        left, bottom, right, top = geotiff.bounds\n",
    "        all_bounds[f\"{file_num}\"] = f\"{left, bottom, right, top}\"\n",
    "        with open(\"/home/giodsubuntu/3D_house_Lidar/json/j_all_bounds.json\", \"a+\") as f:\n",
    "            json.dump(all_bounds, f)\n",
    "    return all_bounds"
   ]
  },
  {
   "cell_type": "code",
   "execution_count": null,
   "id": "e768ff0c",
   "metadata": {},
   "outputs": [],
   "source": []
  },
  {
   "cell_type": "code",
   "execution_count": 9,
   "id": "de64c665",
   "metadata": {},
   "outputs": [
    {
     "ename": "NameError",
     "evalue": "name 'open_geotiff' is not defined",
     "output_type": "error",
     "traceback": [
      "\u001b[0;31m---------------------------------------------------------------------------\u001b[0m",
      "\u001b[0;31mNameError\u001b[0m                                 Traceback (most recent call last)",
      "Input \u001b[0;32mIn [9]\u001b[0m, in \u001b[0;36m<module>\u001b[0;34m\u001b[0m\n\u001b[1;32m      1\u001b[0m \u001b[38;5;66;03m# download and unzip the dtm and dsm files based on URL\u001b[39;00m\n\u001b[0;32m----> 2\u001b[0m \u001b[38;5;129m@run_before\u001b[39m(\u001b[43mopen_geotiff\u001b[49m)\n\u001b[1;32m      3\u001b[0m \u001b[38;5;28;01mdef\u001b[39;00m \u001b[38;5;21mdownload_unzip\u001b[39m(url):\n\u001b[1;32m      5\u001b[0m     \u001b[38;5;28;01mwith\u001b[39;00m urlopen(url) \u001b[38;5;28;01mas\u001b[39;00m zipresp, NamedTemporaryFile() \u001b[38;5;28;01mas\u001b[39;00m tfile:\n\u001b[1;32m      6\u001b[0m         tfile\u001b[38;5;241m.\u001b[39mwrite(zipresp\u001b[38;5;241m.\u001b[39mread())\n",
      "\u001b[0;31mNameError\u001b[0m: name 'open_geotiff' is not defined"
     ]
    }
   ],
   "source": [
    "# download and unzip the dtm and dsm files based on URL\n",
    "@run_before(open_geotiff)\n",
    "def download_unzip(url):\n",
    "\n",
    "    with urlopen(url) as zipresp, NamedTemporaryFile() as tfile:\n",
    "        tfile.write(zipresp.read())\n",
    "        tfile.seek(0)\n",
    "        filename = url.split('/')[-1].replace(\".zip\", \"\")\n",
    "        file_path = f\"/home/giodsubuntu/3D_house_Lidar/Files/{filename}\"\n",
    "        unpack_archive(tfile.name,file_path, format = 'zip')\n",
    "        \n",
    "    return filename"
   ]
  },
  {
   "cell_type": "code",
   "execution_count": null,
   "id": "6b3220cc",
   "metadata": {},
   "outputs": [],
   "source": [
    "  "
   ]
  },
  {
   "cell_type": "markdown",
   "id": "5dcae8cb",
   "metadata": {},
   "source": [
    "zipurl_dsm = 'https://downloadagiv.blob.core.windows.net/dhm-vlaanderen-ii-dsm-raster-1m/DHMVIIDSMRAS1m_k01.zip'\n",
    "zipurl_dtm = \"https://downloadagiv.blob.core.windows.net/dhm-vlaanderen-ii-dtm-raster-1m/DHMVIIDTMRAS1m_k03.zip\""
   ]
  },
  {
   "cell_type": "markdown",
   "id": "32f47713",
   "metadata": {},
   "source": [
    "url_l = []\n",
    "for num in range(0,9):\n",
    "    num +=1\n",
    "    url=f'https://downloadagiv.blob.core.windows.net/dhm-vlaanderen-ii-dsm-raster-1m/DHMVIIDSMRAS1m_k0{num}.zip'\n",
    "    url_l.append(url)\n",
    "for num in range(9,43):\n",
    "    num +=1\n",
    "    url=f'https://downloadagiv.blob.core.windows.net/dhm-vlaanderen-ii-dsm-raster-1m/DHMVIIDSMRAS1m_k{num}.zip'\n",
    "    url_l.append(url)\n",
    "    \n",
    "print(url_l)"
   ]
  },
  {
   "cell_type": "code",
   "execution_count": null,
   "id": "82426f9f",
   "metadata": {},
   "outputs": [],
   "source": [
    "url_l = ['https://downloadagiv.blob.core.windows.net/dhm-vlaanderen-ii-dsm-raster-1m/DHMVIIDSMRAS1m_k01.zip', 'https://downloadagiv.blob.core.windows.net/dhm-vlaanderen-ii-dsm-raster-1m/DHMVIIDSMRAS1m_k02.zip', 'https://downloadagiv.blob.core.windows.net/dhm-vlaanderen-ii-dsm-raster-1m/DHMVIIDSMRAS1m_k03.zip']"
   ]
  },
  {
   "cell_type": "code",
   "execution_count": null,
   "id": "cd177c83",
   "metadata": {},
   "outputs": [],
   "source": [
    "for url in url_l:\n",
    "    filename = download_unzip(zipurl_dsm)\n",
    "    boundaries = open_geotiff(filename)\n",
    "    zip_delete(filename)"
   ]
  },
  {
   "cell_type": "code",
   "execution_count": null,
   "id": "28d190d4",
   "metadata": {},
   "outputs": [],
   "source": [
    " #where do I put ths to not keep on deleting my keys?\n",
    "\n",
    "print(all_bounds)\n"
   ]
  },
  {
   "cell_type": "markdown",
   "id": "709b82f3",
   "metadata": {},
   "source": [
    "with open(\"/home/giodsubuntu/3D_house_Lidar/json/j_all_bounds.json\", \"w+\") as f:\n",
    "    json.dump(all_bounds, f)\n",
    "\n",
    "\n",
    "#j_all_bounds = json.dumps(all_bounds)\n",
    "\n",
    "# the result is a JSON string:\n",
    "#print(j_all_bounds)\n",
    "#type(j_all_bounds)"
   ]
  },
  {
   "cell_type": "code",
   "execution_count": null,
   "id": "259292ab",
   "metadata": {},
   "outputs": [],
   "source": [
    "#DHMVII_vdc_k31all_bounds\n",
    "\n",
    "#Do you REALLY need to unzip the 2nd file? The Geotiff is there!\n",
    "\n",
    "#Nice to have: \n",
    "# better path for saving file\n",
    "# handle file already downloaded (chg name?, abort?)"
   ]
  },
  {
   "cell_type": "code",
   "execution_count": null,
   "id": "a8b76e66",
   "metadata": {},
   "outputs": [],
   "source": []
  }
 ],
 "metadata": {
  "kernelspec": {
   "display_name": "Python 3 (ipykernel)",
   "language": "python",
   "name": "python3"
  },
  "language_info": {
   "codemirror_mode": {
    "name": "ipython",
    "version": 3
   },
   "file_extension": ".py",
   "mimetype": "text/x-python",
   "name": "python",
   "nbconvert_exporter": "python",
   "pygments_lexer": "ipython3",
   "version": "3.8.10"
  }
 },
 "nbformat": 4,
 "nbformat_minor": 5
}
