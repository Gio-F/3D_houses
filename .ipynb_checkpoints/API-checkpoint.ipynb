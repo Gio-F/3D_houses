{
 "cells": [
  {
   "cell_type": "code",
   "execution_count": 1,
   "id": "a5649857",
   "metadata": {},
   "outputs": [],
   "source": [
    "import requests"
   ]
  },
  {
   "cell_type": "code",
   "execution_count": 8,
   "id": "ca68dd3e",
   "metadata": {},
   "outputs": [
    {
     "name": "stdout",
     "output_type": "stream",
     "text": [
      "Enter full address, including zip code: avenue slegers 368 1200 woluwe-saint-lambert\n"
     ]
    }
   ],
   "source": [
    "address = input(\"Enter full address, including zip code: \")"
   ]
  },
  {
   "cell_type": "code",
   "execution_count": 9,
   "id": "9a7d40de",
   "metadata": {},
   "outputs": [
    {
     "data": {
      "text/plain": [
       "{'LocationResult': [{'Municipality': 'Woluwe-Saint-Lambert',\n",
       "   'Zipcode': None,\n",
       "   'Thoroughfarename': 'Avenue A.J. Slegers',\n",
       "   'Housenumber': None,\n",
       "   'ID': 4514,\n",
       "   'FormattedAddress': 'Avenue A.J. Slegers, Woluwe-Saint-Lambert',\n",
       "   'Location': {'Lat_WGS84': 50.840779039008815,\n",
       "    'Lon_WGS84': 4.422791411652578,\n",
       "    'X_Lambert72': 153806.24,\n",
       "    'Y_Lambert72': 170042.33},\n",
       "   'LocationType': 'urbis_straat',\n",
       "   'BoundingBox': {'LowerLeft': {'Lat_WGS84': 50.84028522112552,\n",
       "     'Lon_WGS84': 4.414053046545249,\n",
       "     'X_Lambert72': 153190.79,\n",
       "     'Y_Lambert72': 169986.98},\n",
       "    'UpperRight': {'Lat_WGS84': 50.841272115769534,\n",
       "     'Lon_WGS84': 4.431529960079796,\n",
       "     'X_Lambert72': 154421.69,\n",
       "     'Y_Lambert72': 170097.67}}}]}"
      ]
     },
     "execution_count": 9,
     "metadata": {},
     "output_type": "execute_result"
    }
   ],
   "source": [
    "api_url = f\"http://loc.geopunt.be/v4/Location?q={address}&c=1\"\n",
    "response = requests.get(api_url)\n",
    "response.json()"
   ]
  },
  {
   "cell_type": "code",
   "execution_count": null,
   "id": "b79d2ad4",
   "metadata": {},
   "outputs": [],
   "source": [
    "### TODO get Lambert coordinates from JSON file"
   ]
  },
  {
   "cell_type": "code",
   "execution_count": null,
   "id": "c112b792",
   "metadata": {},
   "outputs": [],
   "source": [
    "with open('response.json', 'r') as json_file:\n",
    "    json_load = json.load(json_file)"
   ]
  }
 ],
 "metadata": {
  "kernelspec": {
   "display_name": "Python 3 (ipykernel)",
   "language": "python",
   "name": "python3"
  },
  "language_info": {
   "codemirror_mode": {
    "name": "ipython",
    "version": 3
   },
   "file_extension": ".py",
   "mimetype": "text/x-python",
   "name": "python",
   "nbconvert_exporter": "python",
   "pygments_lexer": "ipython3",
   "version": "3.8.10"
  }
 },
 "nbformat": 4,
 "nbformat_minor": 5
}
